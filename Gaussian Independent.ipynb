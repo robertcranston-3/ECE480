{
 "cells": [
  {
   "cell_type": "code",
   "execution_count": 1,
   "id": "8f295933",
   "metadata": {},
   "outputs": [],
   "source": [
    "#numpy library import\n",
    "import numpy as np\n",
    "from sklearn.preprocessing import StandardScaler\n",
    "#pandas library import\n",
    "import pandas as pd\n",
    "import umap\n",
    "from sklearn.mixture import GaussianMixture\n",
    "from yellowbrick.cluster import KElbowVisualizer\n",
    "\n",
    "\n",
    "#import graphing libraries\n",
    "import matplotlib.pyplot as plt\n",
    "import seaborn as sns\n",
    "from tqdm import tqdm\n",
    "from sklearn import metrics\n",
    "from sklearn.metrics import confusion_matrix"
   ]
  },
  {
   "cell_type": "code",
   "execution_count": 2,
   "id": "98f80a97",
   "metadata": {},
   "outputs": [
    {
     "name": "stdout",
     "output_type": "stream",
     "text": [
      "(269855, 6)\n"
     ]
    }
   ],
   "source": [
    "training_df = pd.read_csv('Train_Arabic_Digit.txt', sep = ' ')\n",
    "training_df =training_df.drop(['Unnamed: 6', 'Unnamed: 7', 'Unnamed: 8', 'Unnamed: 9', 'Unnamed: 10', 'Unnamed: 11', 'Unnamed: 12'], axis=1)\n",
    "print(training_df.shape)\n",
    "\n",
    "test_df = pd.read_csv('Test_Arabic_Digit.txt', sep = ' ')\n",
    "test_df =test_df.drop(['Unnamed: 6', 'Unnamed: 7', 'Unnamed: 8', 'Unnamed: 9', 'Unnamed: 10', 'Unnamed: 11', 'Unnamed: 12'], axis=1)"
   ]
  },
  {
   "cell_type": "code",
   "execution_count": 3,
   "id": "780da3df",
   "metadata": {},
   "outputs": [
    {
     "name": "stdout",
     "output_type": "stream",
     "text": [
      "269855\n"
     ]
    }
   ],
   "source": [
    "coefs = 6\n",
    "numClusters = 7\n",
    "print(training_df.shape[0])\n",
    "zeroClusterNum = 4\n",
    "oneClusterNum = 4\n",
    "twoClusterNum = 5\n",
    "threeClusterNum = 6\n",
    "fourClusterNum = 4\n",
    "fiveClusterNum = 5\n",
    "sixClusterNum = 4\n",
    "sevenClusterNum = 4\n",
    "eightClusterNum = 7\n",
    "nineClusterNum = 4"
   ]
  },
  {
   "cell_type": "code",
   "execution_count": 4,
   "id": "e7a2f5a8",
   "metadata": {},
   "outputs": [],
   "source": [
    "zero = pd.DataFrame()\n",
    "one = pd.DataFrame()\n",
    "two = pd.DataFrame()\n",
    "three = pd.DataFrame()\n",
    "four = pd.DataFrame()\n",
    "five = pd.DataFrame()\n",
    "six = pd.DataFrame()\n",
    "seven = pd.DataFrame()\n",
    "eight = pd.DataFrame()\n",
    "nine = pd.DataFrame()\n",
    "start = 0\n",
    "counter = 0\n",
    "for i in range(10):\n",
    "    for j in range(660):\n",
    "        while not (np.isnan(training_df.iloc[counter][0])):\n",
    "            counter=counter+1\n",
    "            if counter == 269855:\n",
    "                counter = 269856\n",
    "                break\n",
    "        if i == 0:\n",
    "            zero = zero.append(training_df.iloc[start:counter])\n",
    "        if i == 1:\n",
    "            one = one.append(training_df.iloc[start:counter])\n",
    "        if i == 2:\n",
    "            two = two.append(training_df.iloc[start:counter])\n",
    "        if i == 3:\n",
    "            three = three.append(training_df.iloc[start:counter])\n",
    "        if i == 4:\n",
    "            four = four.append(training_df.iloc[start:counter])\n",
    "        if i == 5:\n",
    "            five = five.append(training_df.iloc[start:counter])\n",
    "        if i == 6:\n",
    "            six = six.append(training_df.iloc[start:counter])\n",
    "        if i == 7:\n",
    "            seven = seven.append(training_df.iloc[start:counter])\n",
    "        if i == 8:\n",
    "            eight = eight.append(training_df.iloc[start:counter])\n",
    "        if i == 9:\n",
    "            nine = nine.append(training_df.iloc[start:counter])\n",
    "        start=counter+1\n",
    "        counter=counter+1"
   ]
  },
  {
   "cell_type": "code",
   "execution_count": 21,
   "id": "dc0898c8",
   "metadata": {},
   "outputs": [],
   "source": [
    "zeroGm = GaussianMixture(n_components=zeroClusterNum, covariance_type='diag',  random_state=0).fit(zero)\n",
    "oneGm = GaussianMixture(n_components=oneClusterNum, covariance_type='diag',  random_state=0).fit(one)\n",
    "twoGm = GaussianMixture(n_components=twoClusterNum, covariance_type='diag',  random_state=0).fit(two)\n",
    "threeGm = GaussianMixture(n_components=threeClusterNum, covariance_type='diag',  random_state=0).fit(three)\n",
    "fourGm = GaussianMixture(n_components=fourClusterNum, covariance_type='diag',  random_state=0).fit(four)\n",
    "fiveGm = GaussianMixture(n_components=fiveClusterNum, covariance_type='diag',  random_state=0).fit(five)\n",
    "sixGm = GaussianMixture(n_components=sixClusterNum, covariance_type='diag',  random_state=0).fit(six)\n",
    "sevenGm = GaussianMixture(n_components=sevenClusterNum, covariance_type='diag',  random_state=0).fit(seven)\n",
    "eightGm = GaussianMixture(n_components=eightClusterNum, covariance_type='diag',  random_state=0).fit(eight)\n",
    "nineGm = GaussianMixture(n_components=nineClusterNum, covariance_type='diag',  random_state=0).fit(nine)"
   ]
  },
  {
   "cell_type": "code",
   "execution_count": 22,
   "id": "bc735f6a",
   "metadata": {},
   "outputs": [
    {
     "name": "stdout",
     "output_type": "stream",
     "text": [
      "[[2.4695205  0.05494175 0.06003702 0.14874353 0.24343051 0.14466792]\n",
      " [1.25003111 2.02438298 0.83076416 0.27903028 0.3375906  0.27784754]\n",
      " [1.94247836 1.84322545 1.20236752 0.27816951 0.32302561 0.33202169]\n",
      " [3.62480518 3.67614866 0.76510292 0.74073101 0.37907387 0.35733866]\n",
      " [2.26812022 2.09304793 0.63887496 1.04616807 0.25938967 0.6014425 ]\n",
      " [1.55466411 0.73485236 0.7824665  0.716997   0.33095296 0.29703874]]\n"
     ]
    }
   ],
   "source": [
    "print(threeGm.covariances_)"
   ]
  },
  {
   "cell_type": "code",
   "execution_count": 7,
   "id": "a9a9c01a",
   "metadata": {},
   "outputs": [],
   "source": [
    "def gauss (x, sig, mu):\n",
    "    gaussian = (2*np.pi)**(-7.0/2)*np.linalg.det(sig)**(-1.0/2)*np.exp(-0.5*np.matrix(x-mu) @ np.linalg.inv(sig) @ np.transpose(np.matrix(x-mu)))\n",
    "    return float(gaussian)"
   ]
  },
  {
   "cell_type": "code",
   "execution_count": 8,
   "id": "1550f529",
   "metadata": {},
   "outputs": [],
   "source": [
    "def gaussianLikelihood (test, gm, clusterNum):\n",
    "    x = np.ones(6)\n",
    "    covariance0 = np.diagflat(x)\n",
    "    covariance1 = np.diagflat(x)\n",
    "    covariance2 = np.diagflat(x)\n",
    "    covariance3 = np.diagflat(x)\n",
    "    covariance4 = np.diagflat(x)\n",
    "    covariance5 = np.diagflat(x)\n",
    "    covariance6 = np.diagflat(x)\n",
    "    covariance7 = np.diagflat(x)\n",
    "    covariance8 = np.diagflat(x)\n",
    "    covariance9 = np.diagflat(x)\n",
    "    covariance10 = np.diagflat(x)\n",
    "    covariance11 = np.diagflat(x)\n",
    "    covariance12 = np.diagflat(x)\n",
    "    pi0 = 0\n",
    "    pi1 = 0\n",
    "    pi2 = 0\n",
    "    pi3 = 0\n",
    "    pi4 = 0\n",
    "    pi5 = 0\n",
    "    pi6 = 0\n",
    "    pi7 = 0\n",
    "    pi8 = 0\n",
    "    pi9 = 0\n",
    "    pi10 = 0\n",
    "    pi11 = 0\n",
    "    pi12 = 0\n",
    "    \n",
    "    means0 = np.zeros(6)\n",
    "    means1 = np.zeros(6)\n",
    "    means2 = np.zeros(6)\n",
    "    means3 = np.zeros(6)\n",
    "    means4 = np.zeros(6)\n",
    "    means5 = np.zeros(6)\n",
    "    means6 = np.zeros(6)\n",
    "    means7 = np.zeros(6)\n",
    "    means8 = np.zeros(6)\n",
    "    means9 = np.zeros(6)\n",
    "    means10 = np.zeros(6)\n",
    "    means11 = np.zeros(6)\n",
    "    means12 = np.zeros(6)\n",
    "    \n",
    "    \n",
    "    if clusterNum>0:\n",
    "        covariance0 = covariance0*gm.covariances_[0]\n",
    "        pi0 = gm.weights_[0]\n",
    "        means0 = gm.means_[0]\n",
    "    if clusterNum>1:\n",
    "        covariance1 = covariance1*gm.covariances_[1]\n",
    "        pi1 = gm.weights_[1]\n",
    "        means1 = gm.means_[1]\n",
    "    if clusterNum>2:\n",
    "        covariance2 = covariance2*gm.covariances_[2]\n",
    "        pi2 = gm.weights_[2]\n",
    "        means2 = gm.means_[2]\n",
    "    if clusterNum>3:\n",
    "        covariance3 = covariance3*gm.covariances_[3]\n",
    "        pi3 = gm.weights_[3]\n",
    "        means3 = gm.means_[3]\n",
    "    if clusterNum>4:\n",
    "        covariance4 = covariance4*gm.covariances_[4]\n",
    "        pi4 = gm.weights_[4]\n",
    "        means4 = gm.means_[4]\n",
    "    if clusterNum>5:\n",
    "        covariance5 = covariance5*gm.covariances_[5]\n",
    "        pi5 = gm.weights_[5]\n",
    "        means5 = gm.means_[5]\n",
    "    if clusterNum>6:\n",
    "        covariance6 = covariance6*gm.covariances_[6]\n",
    "        pi6 = gm.weights_[6]\n",
    "        means6 = gm.means_[6]\n",
    "    if clusterNum>7:\n",
    "        covariance7 = covariance7*gm.covariances_[7]\n",
    "        pi7 = gm.weights_[7]\n",
    "        means7 = gm.means_[7]\n",
    "    if clusterNum>8:\n",
    "        covariance8 = covariance8*gm.covariances_[8]\n",
    "        pi8 = gm.weights_[8]\n",
    "        means8 = gm.means_[8]\n",
    "    if clusterNum>9:\n",
    "        covariance9 = covariance9*gm.covariances_[9]\n",
    "        pi9 = gm.weights_[9]\n",
    "        means9 = gm.means_[9]\n",
    "    if clusterNum>10:\n",
    "        covariance10 = covariance10*gm.covariances_[10]\n",
    "        pi10 = gm.weights_[10]\n",
    "        means10 = gm.means_[10]\n",
    "    if clusterNum>11:\n",
    "        covariance11 = covariance11*gm.covariances_[11]\n",
    "        pi11 = gm.weights_[11]\n",
    "        means11 = gm.means_[11]\n",
    "    if clusterNum>12:\n",
    "        covariance12 = covariance12*gm.covariances_[12]\n",
    "        pi12 = gm.weights_[12]\n",
    "        means12 = gm.means_[12]\n",
    "    \n",
    "    clustSum = np.zeros(test.shape[0])\n",
    "    for i in range(test.shape[0]):\n",
    "        x = test[i:i+1]\n",
    "        clustSum[i] = np.log((pi0*gauss(x, covariance0, means0 ) + pi1*gauss(x, covariance1, means1 ) + pi2*gauss(x, covariance2, means2 ) + pi3*gauss(x, covariance3, means3 ) + pi4*gauss(x, covariance4, means4 ) + pi5*gauss(x, covariance5, means5 ) + pi6*gauss(x, covariance6, means6 ) + pi7*gauss(x, covariance7, means7 )))\n",
    "    mle = np.sum(clustSum)\n",
    "    return mle\n"
   ]
  },
  {
   "cell_type": "code",
   "execution_count": 15,
   "id": "21903aef",
   "metadata": {},
   "outputs": [
    {
     "name": "stderr",
     "output_type": "stream",
     "text": [
      "100%|████████████████████████████████████████████████████████████████████████████████| 220/220 [01:34<00:00,  2.34it/s]\n",
      "100%|████████████████████████████████████████████████████████████████████████████████| 220/220 [01:35<00:00,  2.30it/s]\n",
      "100%|████████████████████████████████████████████████████████████████████████████████| 220/220 [01:59<00:00,  1.84it/s]\n",
      "100%|████████████████████████████████████████████████████████████████████████████████| 220/220 [02:03<00:00,  1.78it/s]\n",
      "100%|████████████████████████████████████████████████████████████████████████████████| 220/220 [01:57<00:00,  1.88it/s]\n",
      "100%|████████████████████████████████████████████████████████████████████████████████| 220/220 [01:33<00:00,  2.36it/s]\n",
      "100%|████████████████████████████████████████████████████████████████████████████████| 220/220 [02:11<00:00,  1.67it/s]\n",
      "100%|████████████████████████████████████████████████████████████████████████████████| 220/220 [01:47<00:00,  2.06it/s]\n",
      "100%|████████████████████████████████████████████████████████████████████████████████| 220/220 [02:25<00:00,  1.52it/s]\n",
      " 46%|████████████████████████████████████▋                                           | 101/220 [00:46<00:55,  2.16it/s]\n"
     ]
    },
    {
     "ename": "KeyboardInterrupt",
     "evalue": "",
     "output_type": "error",
     "traceback": [
      "\u001b[1;31m---------------------------------------------------------------------------\u001b[0m",
      "\u001b[1;31mKeyboardInterrupt\u001b[0m                         Traceback (most recent call last)",
      "\u001b[1;32m~\\AppData\\Local\\Temp/ipykernel_30828/2922579704.py\u001b[0m in \u001b[0;36m<module>\u001b[1;34m\u001b[0m\n\u001b[0;32m     19\u001b[0m         \u001b[0mmle4\u001b[0m \u001b[1;33m=\u001b[0m \u001b[0mgaussianLikelihood\u001b[0m \u001b[1;33m(\u001b[0m\u001b[0mtesting\u001b[0m\u001b[1;33m,\u001b[0m \u001b[0mfourGm\u001b[0m\u001b[1;33m,\u001b[0m \u001b[0mfourClusterNum\u001b[0m\u001b[1;33m)\u001b[0m\u001b[1;33m\u001b[0m\u001b[1;33m\u001b[0m\u001b[0m\n\u001b[0;32m     20\u001b[0m         \u001b[0mmle5\u001b[0m \u001b[1;33m=\u001b[0m \u001b[0mgaussianLikelihood\u001b[0m \u001b[1;33m(\u001b[0m\u001b[0mtesting\u001b[0m\u001b[1;33m,\u001b[0m \u001b[0mfiveGm\u001b[0m\u001b[1;33m,\u001b[0m \u001b[0mfiveClusterNum\u001b[0m\u001b[1;33m)\u001b[0m\u001b[1;33m\u001b[0m\u001b[1;33m\u001b[0m\u001b[0m\n\u001b[1;32m---> 21\u001b[1;33m         \u001b[0mmle6\u001b[0m \u001b[1;33m=\u001b[0m \u001b[0mgaussianLikelihood\u001b[0m \u001b[1;33m(\u001b[0m\u001b[0mtesting\u001b[0m\u001b[1;33m,\u001b[0m \u001b[0msixGm\u001b[0m\u001b[1;33m,\u001b[0m \u001b[0msixClusterNum\u001b[0m\u001b[1;33m)\u001b[0m\u001b[1;33m\u001b[0m\u001b[1;33m\u001b[0m\u001b[0m\n\u001b[0m\u001b[0;32m     22\u001b[0m         \u001b[0mmle7\u001b[0m \u001b[1;33m=\u001b[0m \u001b[0mgaussianLikelihood\u001b[0m \u001b[1;33m(\u001b[0m\u001b[0mtesting\u001b[0m\u001b[1;33m,\u001b[0m \u001b[0msevenGm\u001b[0m\u001b[1;33m,\u001b[0m \u001b[0msevenClusterNum\u001b[0m\u001b[1;33m)\u001b[0m\u001b[1;33m\u001b[0m\u001b[1;33m\u001b[0m\u001b[0m\n\u001b[0;32m     23\u001b[0m         \u001b[0mmle8\u001b[0m \u001b[1;33m=\u001b[0m \u001b[0mgaussianLikelihood\u001b[0m \u001b[1;33m(\u001b[0m\u001b[0mtesting\u001b[0m\u001b[1;33m,\u001b[0m \u001b[0meightGm\u001b[0m\u001b[1;33m,\u001b[0m \u001b[0meightClusterNum\u001b[0m\u001b[1;33m)\u001b[0m\u001b[1;33m\u001b[0m\u001b[1;33m\u001b[0m\u001b[0m\n",
      "\u001b[1;32m~\\AppData\\Local\\Temp/ipykernel_30828/2871384532.py\u001b[0m in \u001b[0;36mgaussianLikelihood\u001b[1;34m(test, gm, clusterNum)\u001b[0m\n\u001b[0;32m     99\u001b[0m     \u001b[1;32mfor\u001b[0m \u001b[0mi\u001b[0m \u001b[1;32min\u001b[0m \u001b[0mrange\u001b[0m\u001b[1;33m(\u001b[0m\u001b[0mtest\u001b[0m\u001b[1;33m.\u001b[0m\u001b[0mshape\u001b[0m\u001b[1;33m[\u001b[0m\u001b[1;36m0\u001b[0m\u001b[1;33m]\u001b[0m\u001b[1;33m)\u001b[0m\u001b[1;33m:\u001b[0m\u001b[1;33m\u001b[0m\u001b[1;33m\u001b[0m\u001b[0m\n\u001b[0;32m    100\u001b[0m         \u001b[0mx\u001b[0m \u001b[1;33m=\u001b[0m \u001b[0mtest\u001b[0m\u001b[1;33m[\u001b[0m\u001b[0mi\u001b[0m\u001b[1;33m:\u001b[0m\u001b[0mi\u001b[0m\u001b[1;33m+\u001b[0m\u001b[1;36m1\u001b[0m\u001b[1;33m]\u001b[0m\u001b[1;33m\u001b[0m\u001b[1;33m\u001b[0m\u001b[0m\n\u001b[1;32m--> 101\u001b[1;33m         \u001b[0mclustSum\u001b[0m\u001b[1;33m[\u001b[0m\u001b[0mi\u001b[0m\u001b[1;33m]\u001b[0m \u001b[1;33m=\u001b[0m \u001b[0mnp\u001b[0m\u001b[1;33m.\u001b[0m\u001b[0mlog\u001b[0m\u001b[1;33m(\u001b[0m\u001b[1;33m(\u001b[0m\u001b[0mpi0\u001b[0m\u001b[1;33m*\u001b[0m\u001b[0mgauss\u001b[0m\u001b[1;33m(\u001b[0m\u001b[0mx\u001b[0m\u001b[1;33m,\u001b[0m \u001b[0mcovariance0\u001b[0m\u001b[1;33m,\u001b[0m \u001b[0mmeans0\u001b[0m \u001b[1;33m)\u001b[0m \u001b[1;33m+\u001b[0m \u001b[0mpi1\u001b[0m\u001b[1;33m*\u001b[0m\u001b[0mgauss\u001b[0m\u001b[1;33m(\u001b[0m\u001b[0mx\u001b[0m\u001b[1;33m,\u001b[0m \u001b[0mcovariance1\u001b[0m\u001b[1;33m,\u001b[0m \u001b[0mmeans1\u001b[0m \u001b[1;33m)\u001b[0m \u001b[1;33m+\u001b[0m \u001b[0mpi2\u001b[0m\u001b[1;33m*\u001b[0m\u001b[0mgauss\u001b[0m\u001b[1;33m(\u001b[0m\u001b[0mx\u001b[0m\u001b[1;33m,\u001b[0m \u001b[0mcovariance2\u001b[0m\u001b[1;33m,\u001b[0m \u001b[0mmeans2\u001b[0m \u001b[1;33m)\u001b[0m \u001b[1;33m+\u001b[0m \u001b[0mpi3\u001b[0m\u001b[1;33m*\u001b[0m\u001b[0mgauss\u001b[0m\u001b[1;33m(\u001b[0m\u001b[0mx\u001b[0m\u001b[1;33m,\u001b[0m \u001b[0mcovariance3\u001b[0m\u001b[1;33m,\u001b[0m \u001b[0mmeans3\u001b[0m \u001b[1;33m)\u001b[0m \u001b[1;33m+\u001b[0m \u001b[0mpi4\u001b[0m\u001b[1;33m*\u001b[0m\u001b[0mgauss\u001b[0m\u001b[1;33m(\u001b[0m\u001b[0mx\u001b[0m\u001b[1;33m,\u001b[0m \u001b[0mcovariance4\u001b[0m\u001b[1;33m,\u001b[0m \u001b[0mmeans4\u001b[0m \u001b[1;33m)\u001b[0m \u001b[1;33m+\u001b[0m \u001b[0mpi5\u001b[0m\u001b[1;33m*\u001b[0m\u001b[0mgauss\u001b[0m\u001b[1;33m(\u001b[0m\u001b[0mx\u001b[0m\u001b[1;33m,\u001b[0m \u001b[0mcovariance5\u001b[0m\u001b[1;33m,\u001b[0m \u001b[0mmeans5\u001b[0m \u001b[1;33m)\u001b[0m \u001b[1;33m+\u001b[0m \u001b[0mpi6\u001b[0m\u001b[1;33m*\u001b[0m\u001b[0mgauss\u001b[0m\u001b[1;33m(\u001b[0m\u001b[0mx\u001b[0m\u001b[1;33m,\u001b[0m \u001b[0mcovariance6\u001b[0m\u001b[1;33m,\u001b[0m \u001b[0mmeans6\u001b[0m \u001b[1;33m)\u001b[0m \u001b[1;33m+\u001b[0m \u001b[0mpi7\u001b[0m\u001b[1;33m*\u001b[0m\u001b[0mgauss\u001b[0m\u001b[1;33m(\u001b[0m\u001b[0mx\u001b[0m\u001b[1;33m,\u001b[0m \u001b[0mcovariance7\u001b[0m\u001b[1;33m,\u001b[0m \u001b[0mmeans7\u001b[0m \u001b[1;33m)\u001b[0m\u001b[1;33m)\u001b[0m\u001b[1;33m)\u001b[0m\u001b[1;33m\u001b[0m\u001b[1;33m\u001b[0m\u001b[0m\n\u001b[0m\u001b[0;32m    102\u001b[0m     \u001b[0mmle\u001b[0m \u001b[1;33m=\u001b[0m \u001b[0mnp\u001b[0m\u001b[1;33m.\u001b[0m\u001b[0msum\u001b[0m\u001b[1;33m(\u001b[0m\u001b[0mclustSum\u001b[0m\u001b[1;33m)\u001b[0m\u001b[1;33m\u001b[0m\u001b[1;33m\u001b[0m\u001b[0m\n\u001b[0;32m    103\u001b[0m     \u001b[1;32mreturn\u001b[0m \u001b[0mmle\u001b[0m\u001b[1;33m\u001b[0m\u001b[1;33m\u001b[0m\u001b[0m\n",
      "\u001b[1;32m~\\AppData\\Local\\Temp/ipykernel_30828/49556370.py\u001b[0m in \u001b[0;36mgauss\u001b[1;34m(x, sig, mu)\u001b[0m\n\u001b[0;32m      1\u001b[0m \u001b[1;32mdef\u001b[0m \u001b[0mgauss\u001b[0m \u001b[1;33m(\u001b[0m\u001b[0mx\u001b[0m\u001b[1;33m,\u001b[0m \u001b[0msig\u001b[0m\u001b[1;33m,\u001b[0m \u001b[0mmu\u001b[0m\u001b[1;33m)\u001b[0m\u001b[1;33m:\u001b[0m\u001b[1;33m\u001b[0m\u001b[1;33m\u001b[0m\u001b[0m\n\u001b[1;32m----> 2\u001b[1;33m     \u001b[0mgaussian\u001b[0m \u001b[1;33m=\u001b[0m \u001b[1;33m(\u001b[0m\u001b[1;36m2\u001b[0m\u001b[1;33m*\u001b[0m\u001b[0mnp\u001b[0m\u001b[1;33m.\u001b[0m\u001b[0mpi\u001b[0m\u001b[1;33m)\u001b[0m\u001b[1;33m**\u001b[0m\u001b[1;33m(\u001b[0m\u001b[1;33m-\u001b[0m\u001b[1;36m7.0\u001b[0m\u001b[1;33m/\u001b[0m\u001b[1;36m2\u001b[0m\u001b[1;33m)\u001b[0m\u001b[1;33m*\u001b[0m\u001b[0mnp\u001b[0m\u001b[1;33m.\u001b[0m\u001b[0mlinalg\u001b[0m\u001b[1;33m.\u001b[0m\u001b[0mdet\u001b[0m\u001b[1;33m(\u001b[0m\u001b[0msig\u001b[0m\u001b[1;33m)\u001b[0m\u001b[1;33m**\u001b[0m\u001b[1;33m(\u001b[0m\u001b[1;33m-\u001b[0m\u001b[1;36m1.0\u001b[0m\u001b[1;33m/\u001b[0m\u001b[1;36m2\u001b[0m\u001b[1;33m)\u001b[0m\u001b[1;33m*\u001b[0m\u001b[0mnp\u001b[0m\u001b[1;33m.\u001b[0m\u001b[0mexp\u001b[0m\u001b[1;33m(\u001b[0m\u001b[1;33m-\u001b[0m\u001b[1;36m0.5\u001b[0m\u001b[1;33m*\u001b[0m\u001b[0mnp\u001b[0m\u001b[1;33m.\u001b[0m\u001b[0mmatrix\u001b[0m\u001b[1;33m(\u001b[0m\u001b[0mx\u001b[0m\u001b[1;33m-\u001b[0m\u001b[0mmu\u001b[0m\u001b[1;33m)\u001b[0m \u001b[1;33m@\u001b[0m \u001b[0mnp\u001b[0m\u001b[1;33m.\u001b[0m\u001b[0mlinalg\u001b[0m\u001b[1;33m.\u001b[0m\u001b[0minv\u001b[0m\u001b[1;33m(\u001b[0m\u001b[0msig\u001b[0m\u001b[1;33m)\u001b[0m \u001b[1;33m@\u001b[0m \u001b[0mnp\u001b[0m\u001b[1;33m.\u001b[0m\u001b[0mtranspose\u001b[0m\u001b[1;33m(\u001b[0m\u001b[0mnp\u001b[0m\u001b[1;33m.\u001b[0m\u001b[0mmatrix\u001b[0m\u001b[1;33m(\u001b[0m\u001b[0mx\u001b[0m\u001b[1;33m-\u001b[0m\u001b[0mmu\u001b[0m\u001b[1;33m)\u001b[0m\u001b[1;33m)\u001b[0m\u001b[1;33m)\u001b[0m\u001b[1;33m\u001b[0m\u001b[1;33m\u001b[0m\u001b[0m\n\u001b[0m\u001b[0;32m      3\u001b[0m     \u001b[1;32mreturn\u001b[0m \u001b[0mfloat\u001b[0m\u001b[1;33m(\u001b[0m\u001b[0mgaussian\u001b[0m\u001b[1;33m)\u001b[0m\u001b[1;33m\u001b[0m\u001b[1;33m\u001b[0m\u001b[0m\n",
      "\u001b[1;32mc:\\python39\\lib\\site-packages\\numpy\\matrixlib\\defmatrix.py\u001b[0m in \u001b[0;36m__rmul__\u001b[1;34m(self, other)\u001b[0m\n\u001b[0;32m    222\u001b[0m \u001b[1;33m\u001b[0m\u001b[0m\n\u001b[0;32m    223\u001b[0m     \u001b[1;32mdef\u001b[0m \u001b[0m__rmul__\u001b[0m\u001b[1;33m(\u001b[0m\u001b[0mself\u001b[0m\u001b[1;33m,\u001b[0m \u001b[0mother\u001b[0m\u001b[1;33m)\u001b[0m\u001b[1;33m:\u001b[0m\u001b[1;33m\u001b[0m\u001b[1;33m\u001b[0m\u001b[0m\n\u001b[1;32m--> 224\u001b[1;33m         \u001b[1;32mreturn\u001b[0m \u001b[0mN\u001b[0m\u001b[1;33m.\u001b[0m\u001b[0mdot\u001b[0m\u001b[1;33m(\u001b[0m\u001b[0mother\u001b[0m\u001b[1;33m,\u001b[0m \u001b[0mself\u001b[0m\u001b[1;33m)\u001b[0m\u001b[1;33m\u001b[0m\u001b[1;33m\u001b[0m\u001b[0m\n\u001b[0m\u001b[0;32m    225\u001b[0m \u001b[1;33m\u001b[0m\u001b[0m\n\u001b[0;32m    226\u001b[0m     \u001b[1;32mdef\u001b[0m \u001b[0m__imul__\u001b[0m\u001b[1;33m(\u001b[0m\u001b[0mself\u001b[0m\u001b[1;33m,\u001b[0m \u001b[0mother\u001b[0m\u001b[1;33m)\u001b[0m\u001b[1;33m:\u001b[0m\u001b[1;33m\u001b[0m\u001b[1;33m\u001b[0m\u001b[0m\n",
      "\u001b[1;32m<__array_function__ internals>\u001b[0m in \u001b[0;36mdot\u001b[1;34m(*args, **kwargs)\u001b[0m\n",
      "\u001b[1;31mKeyboardInterrupt\u001b[0m: "
     ]
    }
   ],
   "source": [
    "mles = np.zeros(10)\n",
    "predicted = np.zeros((2200))\n",
    "actual = np.zeros((2200))\n",
    "start = 0\n",
    "counter = 0\n",
    "digitMle = np.shape((10))\n",
    "for i in (range(10)):\n",
    "    for j in tqdm(range(220)):\n",
    "        while not (np.isnan(test_df.iloc[counter][0])):\n",
    "            if i == 9 and j == 219:\n",
    "                counter = test_df.shape[0]\n",
    "                break;\n",
    "            counter=counter+1\n",
    "        testing = test_df.iloc[start:counter].values\n",
    "        mle0 = gaussianLikelihood (testing, zeroGm, zeroClusterNum)\n",
    "        mle1 = gaussianLikelihood (testing, oneGm, oneClusterNum)\n",
    "        mle2 = gaussianLikelihood (testing, twoGm, twoClusterNum)\n",
    "        mle3 = gaussianLikelihood (testing, threeGm, threeClusterNum)\n",
    "        mle4 = gaussianLikelihood (testing, fourGm, fourClusterNum)\n",
    "        mle5 = gaussianLikelihood (testing, fiveGm, fiveClusterNum)\n",
    "        mle6 = gaussianLikelihood (testing, sixGm, sixClusterNum)\n",
    "        mle7 = gaussianLikelihood (testing, sevenGm, sevenClusterNum)\n",
    "        mle8 = gaussianLikelihood (testing, eightGm, eightClusterNum)\n",
    "        mle9 = gaussianLikelihood (testing, nineGm, nineClusterNum)\n",
    "        likelihoods = [mle0, mle1, mle2, mle3, mle4, mle5, mle6, mle7, mle8, mle9]\n",
    "        digit = np.argmax(likelihoods)\n",
    "        actual[i*220+j] = i\n",
    "        predicted[i*220+j] = digit\n",
    "        counter = counter + 1\n",
    "        start = counter"
   ]
  },
  {
   "cell_type": "code",
   "execution_count": 10,
   "id": "466b1cc8",
   "metadata": {},
   "outputs": [
    {
     "name": "stdout",
     "output_type": "stream",
     "text": [
      "Predicted  0.0  1.0  2.0  3.0  4.0  5.0  6.0  7.0  8.0  9.0\n",
      "Actual                                                     \n",
      "0.0        182    0    0   11    0    6   12    5    0    4\n",
      "1.0          0  196    5    7    0    9    3    0    0    0\n",
      "2.0          1    0  177   22    0   10    1    0    9    0\n",
      "3.0          1    2    6  183    0   11    1   10    6    0\n",
      "4.0          0    9    0    2  161    3    1   40    0    4\n",
      "5.0          8    0    0    0    3  181   10    4    0   14\n",
      "6.0         10    0    5    2    0    5  196    0    0    2\n",
      "7.0          4    2    1   10   35   12    1  145    6    4\n",
      "8.0          0    0   15   13    0    8    0    0  184    0\n",
      "9.0         12    0    4   16    0   10    5   16    0  157\n"
     ]
    }
   ],
   "source": [
    "data = {'y_Actual':    actual,\n",
    "        'y_Predicted': predicted\n",
    "        }\n",
    "\n",
    "df = pd.DataFrame(data, columns=['y_Actual','y_Predicted'])\n",
    "\n",
    "confusion_matrix = pd.crosstab(df['y_Actual'], df['y_Predicted'], rownames=['Actual'], colnames=['Predicted'])\n",
    "print (confusion_matrix)"
   ]
  },
  {
   "cell_type": "code",
   "execution_count": 11,
   "id": "7151f60b",
   "metadata": {},
   "outputs": [
    {
     "name": "stdout",
     "output_type": "stream",
     "text": [
      "0.8009090909090909\n"
     ]
    }
   ],
   "source": [
    "x = metrics.confusion_matrix(actual, predicted)\n",
    "print(metrics.accuracy_score(actual, predicted))"
   ]
  },
  {
   "cell_type": "code",
   "execution_count": 13,
   "id": "36946f22",
   "metadata": {},
   "outputs": [
    {
     "data": {
      "image/png": "[encoded data removed]",
      "text/plain": [
       "<Figure size 576x396 with 2 Axes>"
      ]
     },
     "metadata": {},
     "output_type": "display_data"
    }
   ],
   "source": [
    "ax = sns.heatmap(x, annot = True, cmap = 'Blues', fmt='g')\n",
    "ax.set_title('Gaussian Mixture Model (Diagonal)\\n\\n');\n",
    "ax.set_xlabel('\\nPredicted Values')\n",
    "ax.set_ylabel('Actual Values ');\n",
    "\n",
    "## Ticket labels - List must be in alphabetical order\n",
    "ax.xaxis.set_ticklabels(['0','1', '2', '3', '4', '5', '6', '7', '8', '9'])\n",
    "ax.yaxis.set_ticklabels(['0','1', '2', '3', '4', '5', '6', '7', '8', '9'])\n",
    "\n",
    "## Display the visualization of the Confusion Matrix.\n",
    "plt.show()"
   ]
  }
 ],
 "metadata": {
  "kernelspec": {
   "display_name": "Python 3 (ipykernel)",
   "language": "python",
   "name": "python3"
  },
  "language_info": {
   "codemirror_mode": {
    "name": "ipython",
    "version": 3
   },
   "file_extension": ".py",
   "mimetype": "text/x-python",
   "name": "python",
   "nbconvert_exporter": "python",
   "pygments_lexer": "ipython3",
   "version": "3.9.1"
  }
 },
 "nbformat": 4,
 "nbformat_minor": 5
}
