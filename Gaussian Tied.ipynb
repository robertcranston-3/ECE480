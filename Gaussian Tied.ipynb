{
 "cells": [
  {
   "cell_type": "code",
   "execution_count": 1,
   "id": "2985760c",
   "metadata": {},
   "outputs": [],
   "source": [
    "#numpy library import\n",
    "import numpy as np\n",
    "from sklearn.preprocessing import StandardScaler\n",
    "#pandas library import\n",
    "import pandas as pd\n",
    "import umap\n",
    "from sklearn.mixture import GaussianMixture\n",
    "from yellowbrick.cluster import KElbowVisualizer\n",
    "\n",
    "\n",
    "#import graphing libraries\n",
    "import matplotlib.pyplot as plt\n",
    "import seaborn as sns\n",
    "from tqdm import tqdm\n",
    "from sklearn import metrics\n",
    "from sklearn.metrics import confusion_matrix"
   ]
  },
  {
   "cell_type": "code",
   "execution_count": 2,
   "id": "06110c18",
   "metadata": {},
   "outputs": [
    {
     "name": "stdout",
     "output_type": "stream",
     "text": [
      "(269855, 6)\n"
     ]
    }
   ],
   "source": [
    "training_df = pd.read_csv('Train_Arabic_Digit.txt', sep = ' ')\n",
    "training_df =training_df.drop(['Unnamed: 6', 'Unnamed: 7', 'Unnamed: 8', 'Unnamed: 9', 'Unnamed: 10', 'Unnamed: 11', 'Unnamed: 12'], axis=1)\n",
    "print(training_df.shape)\n",
    "\n",
    "test_df = pd.read_csv('Test_Arabic_Digit.txt', sep = ' ')\n",
    "test_df =test_df.drop(['Unnamed: 6', 'Unnamed: 7', 'Unnamed: 8', 'Unnamed: 9', 'Unnamed: 10', 'Unnamed: 11', 'Unnamed: 12'], axis=1)"
   ]
  },
  {
   "cell_type": "code",
   "execution_count": 3,
   "id": "80d983c1",
   "metadata": {},
   "outputs": [
    {
     "name": "stdout",
     "output_type": "stream",
     "text": [
      "269855\n"
     ]
    }
   ],
   "source": [
    "coefs = 6\n",
    "numClusters = 7\n",
    "print(training_df.shape[0])\n",
    "zeroClusterNum = 4\n",
    "oneClusterNum = 4\n",
    "twoClusterNum = 5\n",
    "threeClusterNum = 6\n",
    "fourClusterNum = 4\n",
    "fiveClusterNum = 5\n",
    "sixClusterNum = 4\n",
    "sevenClusterNum = 4\n",
    "eightClusterNum = 7\n",
    "nineClusterNum = 4"
   ]
  },
  {
   "cell_type": "code",
   "execution_count": 4,
   "id": "a44da440",
   "metadata": {},
   "outputs": [],
   "source": [
    "zero = pd.DataFrame()\n",
    "one = pd.DataFrame()\n",
    "two = pd.DataFrame()\n",
    "three = pd.DataFrame()\n",
    "four = pd.DataFrame()\n",
    "five = pd.DataFrame()\n",
    "six = pd.DataFrame()\n",
    "seven = pd.DataFrame()\n",
    "eight = pd.DataFrame()\n",
    "nine = pd.DataFrame()\n",
    "start = 0\n",
    "counter = 0\n",
    "for i in range(10):\n",
    "    for j in range(660):\n",
    "        while not (np.isnan(training_df.iloc[counter][0])):\n",
    "            counter=counter+1\n",
    "            if counter == 269855:\n",
    "                counter = 269856\n",
    "                break\n",
    "        if i == 0:\n",
    "            zero = zero.append(training_df.iloc[start:counter])\n",
    "        if i == 1:\n",
    "            one = one.append(training_df.iloc[start:counter])\n",
    "        if i == 2:\n",
    "            two = two.append(training_df.iloc[start:counter])\n",
    "        if i == 3:\n",
    "            three = three.append(training_df.iloc[start:counter])\n",
    "        if i == 4:\n",
    "            four = four.append(training_df.iloc[start:counter])\n",
    "        if i == 5:\n",
    "            five = five.append(training_df.iloc[start:counter])\n",
    "        if i == 6:\n",
    "            six = six.append(training_df.iloc[start:counter])\n",
    "        if i == 7:\n",
    "            seven = seven.append(training_df.iloc[start:counter])\n",
    "        if i == 8:\n",
    "            eight = eight.append(training_df.iloc[start:counter])\n",
    "        if i == 9:\n",
    "            nine = nine.append(training_df.iloc[start:counter])\n",
    "        start=counter+1\n",
    "        counter=counter+1"
   ]
  },
  {
   "cell_type": "code",
   "execution_count": 9,
   "id": "764fdcfe",
   "metadata": {},
   "outputs": [],
   "source": [
    "zeroGm = GaussianMixture(n_components=zeroClusterNum, covariance_type='tied',  random_state=0).fit(zero)\n",
    "oneGm = GaussianMixture(n_components=oneClusterNum, covariance_type='tied', random_state=0).fit(one)\n",
    "twoGm = GaussianMixture(n_components=twoClusterNum, covariance_type='tied',  random_state=0).fit(two)\n",
    "threeGm = GaussianMixture(n_components=threeClusterNum, covariance_type='tied', random_state=0).fit(three)\n",
    "fourGm = GaussianMixture(n_components=fourClusterNum, covariance_type='tied', random_state=0).fit(four)\n",
    "fiveGm = GaussianMixture(n_components=fiveClusterNum, covariance_type='tied', random_state=0).fit(five)\n",
    "sixGm = GaussianMixture(n_components=sixClusterNum, covariance_type='tied', random_state=0).fit(six)\n",
    "sevenGm = GaussianMixture(n_components=sevenClusterNum, covariance_type='tied', random_state=0).fit(seven)\n",
    "eightGm = GaussianMixture(n_components=eightClusterNum, covariance_type='tied', random_state=0).fit(eight)\n",
    "nineGm = GaussianMixture(n_components=nineClusterNum, covariance_type='tied', random_state=0).fit(nine)"
   ]
  },
  {
   "cell_type": "code",
   "execution_count": 10,
   "id": "fc7a1ce0",
   "metadata": {},
   "outputs": [],
   "source": [
    "def gauss (x, sig, mu):\n",
    "    gaussian = (2*np.pi)**(-7.0/2)*np.linalg.det(sig)**(-1.0/2)*np.exp(-0.5*np.matrix(x-mu) @ np.linalg.inv(sig) @ np.transpose(np.matrix(x-mu)))\n",
    "    return float(gaussian)"
   ]
  },
  {
   "cell_type": "code",
   "execution_count": 12,
   "id": "66bfe668",
   "metadata": {},
   "outputs": [],
   "source": [
    "def gaussianLikelihood (test, gm, clusterNum):\n",
    "    x = np.ones(6)\n",
    "    covariance=gm.covariances_\n",
    "    pi0 = 0\n",
    "    pi1 = 0\n",
    "    pi2 = 0\n",
    "    pi3 = 0\n",
    "    pi4 = 0\n",
    "    pi5 = 0\n",
    "    pi6 = 0\n",
    "    pi7 = 0\n",
    "    pi8 = 0\n",
    "    pi9 = 0\n",
    "    pi10 = 0\n",
    "    pi11 = 0\n",
    "    pi12 = 0\n",
    "    \n",
    "    means0 = np.zeros(6)\n",
    "    means1 = np.zeros(6)\n",
    "    means2 = np.zeros(6)\n",
    "    means3 = np.zeros(6)\n",
    "    means4 = np.zeros(6)\n",
    "    means5 = np.zeros(6)\n",
    "    means6 = np.zeros(6)\n",
    "    means7 = np.zeros(6)\n",
    "    means8 = np.zeros(6)\n",
    "    means9 = np.zeros(6)\n",
    "    means10 = np.zeros(6)\n",
    "    means11 = np.zeros(6)\n",
    "    means12 = np.zeros(6)\n",
    "    \n",
    "    \n",
    "    if clusterNum>0:\n",
    "        pi0 = gm.weights_[0]\n",
    "        means0 = gm.means_[0]\n",
    "    if clusterNum>1:\n",
    "        pi1 = gm.weights_[1]\n",
    "        means1 = gm.means_[1]\n",
    "    if clusterNum>2:\n",
    "        pi2 = gm.weights_[2]\n",
    "        means2 = gm.means_[2]\n",
    "    if clusterNum>3:\n",
    "        pi3 = gm.weights_[3]\n",
    "        means3 = gm.means_[3]\n",
    "    if clusterNum>4:\n",
    "        pi4 = gm.weights_[4]\n",
    "        means4 = gm.means_[4]\n",
    "    if clusterNum>5:\n",
    "        pi5 = gm.weights_[5]\n",
    "        means5 = gm.means_[5]\n",
    "    if clusterNum>6:\n",
    "        pi6 = gm.weights_[6]\n",
    "        means6 = gm.means_[6]\n",
    "    if clusterNum>7:\n",
    "        pi7 = gm.weights_[7]\n",
    "        means7 = gm.means_[7]\n",
    "    if clusterNum>8:\n",
    "        pi8 = gm.weights_[8]\n",
    "        means8 = gm.means_[8]\n",
    "    if clusterNum>9:\n",
    "        pi9 = gm.weights_[9]\n",
    "        means9 = gm.means_[9]\n",
    "    if clusterNum>10:\n",
    "        pi10 = gm.weights_[10]\n",
    "        means10 = gm.means_[10]\n",
    "    if clusterNum>11:\n",
    "        pi11 = gm.weights_[11]\n",
    "        means11 = gm.means_[11]\n",
    "    if clusterNum>12:\n",
    "        pi12 = gm.weights_[12]\n",
    "        means12 = gm.means_[12]\n",
    "    \n",
    "    clustSum = np.zeros(test.shape[0])\n",
    "    for i in range(test.shape[0]):\n",
    "        x = test[i:i+1]\n",
    "        clustSum[i] = np.log((pi0*gauss(x, covariance, means0 ) + pi1*gauss(x, covariance, means1 ) + pi2*gauss(x, covariance, means2 ) + pi3*gauss(x, covariance, means3 ) + pi4*gauss(x, covariance, means4 ) + pi5*gauss(x, covariance, means5 ) + pi6*gauss(x, covariance, means6 ) + pi7*gauss(x, covariance, means7 )))\n",
    "    mle = np.sum(clustSum)\n",
    "    return mle\n",
    "    \n",
    "    "
   ]
  },
  {
   "cell_type": "code",
   "execution_count": 13,
   "id": "f614c87f",
   "metadata": {},
   "outputs": [
    {
     "name": "stderr",
     "output_type": "stream",
     "text": [
      "100%|████████████████████████████████████████████████████████████████████████████████| 220/220 [01:32<00:00,  2.39it/s]\n",
      "100%|████████████████████████████████████████████████████████████████████████████████| 220/220 [01:36<00:00,  2.27it/s]\n",
      "100%|████████████████████████████████████████████████████████████████████████████████| 220/220 [02:02<00:00,  1.79it/s]\n",
      "100%|████████████████████████████████████████████████████████████████████████████████| 220/220 [02:08<00:00,  1.72it/s]\n",
      "100%|████████████████████████████████████████████████████████████████████████████████| 220/220 [02:01<00:00,  1.81it/s]\n",
      "100%|████████████████████████████████████████████████████████████████████████████████| 220/220 [01:32<00:00,  2.37it/s]\n",
      "100%|████████████████████████████████████████████████████████████████████████████████| 220/220 [02:10<00:00,  1.68it/s]\n",
      "100%|████████████████████████████████████████████████████████████████████████████████| 220/220 [01:48<00:00,  2.03it/s]\n",
      "100%|████████████████████████████████████████████████████████████████████████████████| 220/220 [02:27<00:00,  1.49it/s]\n",
      "100%|████████████████████████████████████████████████████████████████████████████████| 220/220 [01:37<00:00,  2.26it/s]\n"
     ]
    }
   ],
   "source": [
    "mles = np.zeros(10)\n",
    "predicted = np.zeros((2200))\n",
    "actual = np.zeros((2200))\n",
    "start = 0\n",
    "counter = 0\n",
    "digitMle = np.shape((10))\n",
    "for i in (range(10)):\n",
    "    for j in tqdm(range(220)):\n",
    "        while not (np.isnan(test_df.iloc[counter][0])):\n",
    "            if i == 9 and j == 219:\n",
    "                counter = test_df.shape[0]\n",
    "                break;\n",
    "            counter=counter+1\n",
    "        testing = test_df.iloc[start:counter].values\n",
    "        mle0 = gaussianLikelihood (testing, zeroGm, zeroClusterNum)\n",
    "        mle1 = gaussianLikelihood (testing, oneGm, oneClusterNum)\n",
    "        mle2 = gaussianLikelihood (testing, twoGm, twoClusterNum)\n",
    "        mle3 = gaussianLikelihood (testing, threeGm, threeClusterNum)\n",
    "        mle4 = gaussianLikelihood (testing, fourGm, fourClusterNum)\n",
    "        mle5 = gaussianLikelihood (testing, fiveGm, fiveClusterNum)\n",
    "        mle6 = gaussianLikelihood (testing, sixGm, sixClusterNum)\n",
    "        mle7 = gaussianLikelihood (testing, sevenGm, sevenClusterNum)\n",
    "        mle8 = gaussianLikelihood (testing, eightGm, eightClusterNum)\n",
    "        mle9 = gaussianLikelihood (testing, nineGm, nineClusterNum)\n",
    "        likelihoods = [mle0, mle1, mle2, mle3, mle4, mle5, mle6, mle7, mle8, mle9]\n",
    "        digit = np.argmax(likelihoods)\n",
    "        actual[i*220+j] = i\n",
    "        predicted[i*220+j] = digit\n",
    "        counter = counter + 1\n",
    "        start = counter"
   ]
  },
  {
   "cell_type": "code",
   "execution_count": 14,
   "id": "4c5affab",
   "metadata": {},
   "outputs": [
    {
     "name": "stdout",
     "output_type": "stream",
     "text": [
      "Predicted  0.0  1.0  2.0  3.0  4.0  5.0  6.0  7.0  8.0  9.0\n",
      "Actual                                                     \n",
      "0.0        172    2    0    9    0   10   21    4    0    2\n",
      "1.0          0  192    1   10    2    5    2    5    1    2\n",
      "2.0          6    1  164   21    0    3   19    3    3    0\n",
      "3.0         16    4   12  166    7    2    0   10    3    0\n",
      "4.0          0    3    0    1  191    0    0   23    0    2\n",
      "5.0          7    0    0    5    5  168    2   17    0   16\n",
      "6.0          8    0    2    2    0    6  199    1    0    2\n",
      "7.0          2    3    0    4   45    3    4  151    4    4\n",
      "8.0          2    0   19    2    0    0    0    1  196    0\n",
      "9.0          3    0    3   11    0    3    7   15    0  178\n"
     ]
    }
   ],
   "source": [
    "data = {'y_Actual':    actual,\n",
    "        'y_Predicted': predicted\n",
    "        }\n",
    "\n",
    "df = pd.DataFrame(data, columns=['y_Actual','y_Predicted'])\n",
    "\n",
    "confusion_matrix = pd.crosstab(df['y_Actual'], df['y_Predicted'], rownames=['Actual'], colnames=['Predicted'])\n",
    "print (confusion_matrix)"
   ]
  },
  {
   "cell_type": "code",
   "execution_count": 15,
   "id": "ee7f8f66",
   "metadata": {},
   "outputs": [
    {
     "name": "stdout",
     "output_type": "stream",
     "text": [
      "0.8077272727272727\n"
     ]
    }
   ],
   "source": [
    "x = metrics.confusion_matrix(actual, predicted)\n",
    "print(metrics.accuracy_score(actual, predicted))"
   ]
  },
  {
   "cell_type": "code",
   "execution_count": 17,
   "id": "be774ed4",
   "metadata": {},
   "outputs": [
    {
     "data": {
      "image/png": "[encoded data removed]",
      "text/plain": [
       "<Figure size 576x396 with 2 Axes>"
      ]
     },
     "metadata": {},
     "output_type": "display_data"
    }
   ],
   "source": [
    "ax = sns.heatmap(x, annot = True, cmap = 'Blues', fmt='g')\n",
    "ax.set_title('Gaussian Mixture Model (Tied Covariances)\\n\\n');\n",
    "ax.set_xlabel('\\nPredicted Values')\n",
    "ax.set_ylabel('Actual Values ');\n",
    "\n",
    "## Ticket labels - List must be in alphabetical order\n",
    "ax.xaxis.set_ticklabels(['0','1', '2', '3', '4', '5', '6', '7', '8', '9'])\n",
    "ax.yaxis.set_ticklabels(['0','1', '2', '3', '4', '5', '6', '7', '8', '9'])\n",
    "\n",
    "## Display the visualization of the Confusion Matrix.\n",
    "plt.show()"
   ]
  },
  {
   "cell_type": "code",
   "execution_count": null,
   "id": "1dc1a4f2",
   "metadata": {},
   "outputs": [],
   "source": []
  }
 ],
 "metadata": {
  "kernelspec": {
   "display_name": "Python 3 (ipykernel)",
   "language": "python",
   "name": "python3"
  },
  "language_info": {
   "codemirror_mode": {
    "name": "ipython",
    "version": 3
   },
   "file_extension": ".py",
   "mimetype": "text/x-python",
   "name": "python",
   "nbconvert_exporter": "python",
   "pygments_lexer": "ipython3",
   "version": "3.9.1"
  }
 },
 "nbformat": 4,
 "nbformat_minor": 5
}
