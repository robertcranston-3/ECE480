{
 "cells": [
  {
   "cell_type": "code",
   "execution_count": 74,
   "id": "fdd407e1",
   "metadata": {},
   "outputs": [],
   "source": [
    "#numpy library import\n",
    "import numpy as np\n",
    "from sklearn.preprocessing import StandardScaler\n",
    "#pandas library import\n",
    "import pandas as pd\n",
    "import umap\n",
    "from sklearn.mixture import GaussianMixture\n",
    "from yellowbrick.cluster import KElbowVisualizer\n",
    "\n",
    "\n",
    "#import graphing libraries\n",
    "import matplotlib.pyplot as plt\n",
    "import seaborn as sns\n",
    "from tqdm import tqdm\n",
    "from sklearn import metrics\n",
    "from sklearn.metrics import confusion_matrix"
   ]
  },
  {
   "cell_type": "code",
   "execution_count": 75,
   "id": "e2a43d88",
   "metadata": {},
   "outputs": [
    {
     "name": "stdout",
     "output_type": "stream",
     "text": [
      "(269855, 6)\n"
     ]
    }
   ],
   "source": [
    "training_df = pd.read_csv('Train_Arabic_Digit.txt', sep = ' ')\n",
    "training_df =training_df.drop(['Unnamed: 6', 'Unnamed: 7', 'Unnamed: 8', 'Unnamed: 9', 'Unnamed: 10', 'Unnamed: 11', 'Unnamed: 12'], axis=1)\n",
    "print(training_df.shape)\n",
    "\n",
    "test_df = pd.read_csv('Test_Arabic_Digit.txt', sep = ' ')\n",
    "test_df =test_df.drop(['Unnamed: 6', 'Unnamed: 7', 'Unnamed: 8', 'Unnamed: 9', 'Unnamed: 10', 'Unnamed: 11', 'Unnamed: 12'], axis=1)"
   ]
  },
  {
   "cell_type": "code",
   "execution_count": 89,
   "id": "ca2677af",
   "metadata": {},
   "outputs": [
    {
     "name": "stdout",
     "output_type": "stream",
     "text": [
      "269855\n"
     ]
    }
   ],
   "source": [
    "coefs = 6\n",
    "numClusters = 7\n",
    "print(training_df.shape[0])\n",
    "zeroClusterNum = 4\n",
    "oneClusterNum = 4\n",
    "twoClusterNum = 5\n",
    "threeClusterNum = 6\n",
    "fourClusterNum = 4\n",
    "fiveClusterNum = 5\n",
    "sixClusterNum = 4\n",
    "sevenClusterNum = 4\n",
    "eightClusterNum = 7\n",
    "nineClusterNum = 4"
   ]
  },
  {
   "cell_type": "code",
   "execution_count": 77,
   "id": "f8e031de",
   "metadata": {},
   "outputs": [],
   "source": [
    "zero = pd.DataFrame()\n",
    "one = pd.DataFrame()\n",
    "two = pd.DataFrame()\n",
    "three = pd.DataFrame()\n",
    "four = pd.DataFrame()\n",
    "five = pd.DataFrame()\n",
    "six = pd.DataFrame()\n",
    "seven = pd.DataFrame()\n",
    "eight = pd.DataFrame()\n",
    "nine = pd.DataFrame()\n",
    "start = 0\n",
    "counter = 0\n",
    "for i in range(10):\n",
    "    for j in range(660):\n",
    "        while not (np.isnan(training_df.iloc[counter][0])):\n",
    "            counter=counter+1\n",
    "            if counter == 269855:\n",
    "                counter = 269856\n",
    "                break\n",
    "        if i == 0:\n",
    "            zero = zero.append(training_df.iloc[start:counter])\n",
    "        if i == 1:\n",
    "            one = one.append(training_df.iloc[start:counter])\n",
    "        if i == 2:\n",
    "            two = two.append(training_df.iloc[start:counter])\n",
    "        if i == 3:\n",
    "            three = three.append(training_df.iloc[start:counter])\n",
    "        if i == 4:\n",
    "            four = four.append(training_df.iloc[start:counter])\n",
    "        if i == 5:\n",
    "            five = five.append(training_df.iloc[start:counter])\n",
    "        if i == 6:\n",
    "            six = six.append(training_df.iloc[start:counter])\n",
    "        if i == 7:\n",
    "            seven = seven.append(training_df.iloc[start:counter])\n",
    "        if i == 8:\n",
    "            eight = eight.append(training_df.iloc[start:counter])\n",
    "        if i == 9:\n",
    "            nine = nine.append(training_df.iloc[start:counter])\n",
    "        start=counter+1\n",
    "        counter=counter+1"
   ]
  },
  {
   "cell_type": "code",
   "execution_count": 104,
   "id": "b50eef6d",
   "metadata": {},
   "outputs": [],
   "source": [
    "zeroGm = GaussianMixture(n_components=zeroClusterNum, covariance_type='tied',  random_state=0).fit(zero)\n",
    "oneGm = GaussianMixture(n_components=oneClusterNum, covariance_type='tied', random_state=0).fit(one)\n",
    "twoGm = GaussianMixture(n_components=twoClusterNum, covariance_type='tied',  random_state=0).fit(two)\n",
    "threeGm = GaussianMixture(n_components=threeClusterNum, covariance_type='tied', random_state=0).fit(three)\n",
    "fourGm = GaussianMixture(n_components=fourClusterNum, covariance_type='tied', random_state=0).fit(four)\n",
    "fiveGm = GaussianMixture(n_components=fiveClusterNum, covariance_type='tied', random_state=0).fit(five)\n",
    "sixGm = GaussianMixture(n_components=sixClusterNum, covariance_type='tied', random_state=0).fit(six)\n",
    "sevenGm = GaussianMixture(n_components=sevenClusterNum, covariance_type='tied', random_state=0).fit(seven)\n",
    "eightGm = GaussianMixture(n_components=eightClusterNum, covariance_type='tied', random_state=0).fit(eight)\n",
    "nineGm = GaussianMixture(n_components=nineClusterNum, covariance_type='tied', random_state=0).fit(nine)"
   ]
  },
  {
   "cell_type": "code",
   "execution_count": 79,
   "id": "5cc2582f",
   "metadata": {},
   "outputs": [],
   "source": [
    "def gauss (x, sig, mu):\n",
    "    gaussian = (2*np.pi)**(-7.0/2)*np.linalg.det(sig)**(-1.0/2)*np.exp(-0.5*np.matrix(x-mu) @ np.linalg.inv(sig) @ np.transpose(np.matrix(x-mu)))\n",
    "    return float(gaussian)"
   ]
  },
  {
   "cell_type": "code",
   "execution_count": 87,
   "id": "d9f6afea",
   "metadata": {},
   "outputs": [],
   "source": [
    "def gaussianLikelihood (test, gm, clusterNum):\n",
    "    x = np.ones(6)\n",
    "    covariance0 = np.diagflat(x)\n",
    "    covariance1 = np.diagflat(x)\n",
    "    covariance2 = np.diagflat(x)\n",
    "    covariance3 = np.diagflat(x)\n",
    "    covariance4 = np.diagflat(x)\n",
    "    covariance5 = np.diagflat(x)\n",
    "    covariance6 = np.diagflat(x)\n",
    "    covariance7 = np.diagflat(x)\n",
    "    covariance8 = np.diagflat(x)\n",
    "    covariance9 = np.diagflat(x)\n",
    "    covariance10 = np.diagflat(x)\n",
    "    covariance11 = np.diagflat(x)\n",
    "    covariance12 = np.diagflat(x)\n",
    "    pi0 = 0\n",
    "    pi1 = 0\n",
    "    pi2 = 0\n",
    "    pi3 = 0\n",
    "    pi4 = 0\n",
    "    pi5 = 0\n",
    "    pi6 = 0\n",
    "    pi7 = 0\n",
    "    pi8 = 0\n",
    "    pi9 = 0\n",
    "    pi10 = 0\n",
    "    pi11 = 0\n",
    "    pi12 = 0\n",
    "    \n",
    "    means0 = np.zeros(6)\n",
    "    means1 = np.zeros(6)\n",
    "    means2 = np.zeros(6)\n",
    "    means3 = np.zeros(6)\n",
    "    means4 = np.zeros(6)\n",
    "    means5 = np.zeros(6)\n",
    "    means6 = np.zeros(6)\n",
    "    means7 = np.zeros(6)\n",
    "    means8 = np.zeros(6)\n",
    "    means9 = np.zeros(6)\n",
    "    means10 = np.zeros(6)\n",
    "    means11 = np.zeros(6)\n",
    "    means12 = np.zeros(6)\n",
    "    \n",
    "    \n",
    "    if clusterNum>0:\n",
    "        covariance0 = covariance0*gm.covariances_[0]\n",
    "        pi0 = gm.weights_[0]\n",
    "        means0 = gm.means_[0]\n",
    "    if clusterNum>1:\n",
    "        covariance1 = covariance1*gm.covariances_[1]\n",
    "        pi1 = gm.weights_[1]\n",
    "        means1 = gm.means_[1]\n",
    "    if clusterNum>2:\n",
    "        covariance2 = covariance2*gm.covariances_[2]\n",
    "        pi2 = gm.weights_[2]\n",
    "        means2 = gm.means_[2]\n",
    "    if clusterNum>3:\n",
    "        covariance3 = covariance3*gm.covariances_[3]\n",
    "        pi3 = gm.weights_[3]\n",
    "        means3 = gm.means_[3]\n",
    "    if clusterNum>4:\n",
    "        covariance4 = covariance4*gm.covariances_[4]\n",
    "        pi4 = gm.weights_[4]\n",
    "        means4 = gm.means_[4]\n",
    "    if clusterNum>5:\n",
    "        covariance5 = covariance5*gm.covariances_[5]\n",
    "        pi5 = gm.weights_[5]\n",
    "        means5 = gm.means_[5]\n",
    "    if clusterNum>6:\n",
    "        covariance6 = covariance6*gm.covariances_[6]\n",
    "        pi6 = gm.weights_[6]\n",
    "        means6 = gm.means_[6]\n",
    "    if clusterNum>7:\n",
    "        covariance7 = covariance7*gm.covariances_[7]\n",
    "        pi7 = gm.weights_[7]\n",
    "        means7 = gm.means_[7]\n",
    "    if clusterNum>8:\n",
    "        covariance8 = covariance8*gm.covariances_[8]\n",
    "        pi8 = gm.weights_[8]\n",
    "        means8 = gm.means_[8]\n",
    "    if clusterNum>9:\n",
    "        covariance9 = covariance9*gm.covariances_[9]\n",
    "        pi9 = gm.weights_[9]\n",
    "        means9 = gm.means_[9]\n",
    "    if clusterNum>10:\n",
    "        covariance10 = covariance10*gm.covariances_[10]\n",
    "        pi10 = gm.weights_[10]\n",
    "        means10 = gm.means_[10]\n",
    "    if clusterNum>11:\n",
    "        covariance11 = covariance11*gm.covariances_[11]\n",
    "        pi11 = gm.weights_[11]\n",
    "        means11 = gm.means_[11]\n",
    "    if clusterNum>12:\n",
    "        covariance12 = covariance12*gm.covariances_[12]\n",
    "        pi12 = gm.weights_[12]\n",
    "        means12 = gm.means_[12]\n",
    "    \n",
    "    clustSum = np.zeros(test.shape[0])\n",
    "    for i in range(test.shape[0]):\n",
    "        x = test[i:i+1]\n",
    "        clustSum[i] = np.log((pi0*gauss(x, covariance0, means0 ) + pi1*gauss(x, covariance1, means1 ) + pi2*gauss(x, covariance2, means2 ) + pi3*gauss(x, covariance3, means3 ) + pi4*gauss(x, covariance4, means4 ) + pi5*gauss(x, covariance5, means5 ) + pi6*gauss(x, covariance6, means6 ) + pi7*gauss(x, covariance7, means7 )))\n",
    "    mle = np.sum(clustSum)\n",
    "    return mle\n",
    "    \n",
    "    "
   ]
  },
  {
   "cell_type": "code",
   "execution_count": 105,
   "id": "d20a5e9e",
   "metadata": {},
   "outputs": [
    {
     "name": "stderr",
     "output_type": "stream",
     "text": [
      "  0%|                                                                    | 0/220 [00:00<?, ?it/s]C:\\Users\\vance\\AppData\\Local\\Temp/ipykernel_3872/49556370.py:2: RuntimeWarning: invalid value encountered in double_scalars\n",
      "  gaussian = (2*np.pi)**(-7.0/2)*np.linalg.det(sig)**(-1.0/2)*np.exp(-0.5*np.matrix(x-mu) @ np.linalg.inv(sig) @ np.transpose(np.matrix(x-mu)))\n",
      "C:\\Users\\vance\\AppData\\Local\\Temp/ipykernel_3872/49556370.py:2: RuntimeWarning: overflow encountered in exp\n",
      "  gaussian = (2*np.pi)**(-7.0/2)*np.linalg.det(sig)**(-1.0/2)*np.exp(-0.5*np.matrix(x-mu) @ np.linalg.inv(sig) @ np.transpose(np.matrix(x-mu)))\n",
      "  0%|                                                                    | 0/220 [00:00<?, ?it/s]\n"
     ]
    },
    {
     "ename": "IndexError",
     "evalue": "index 6 is out of bounds for axis 0 with size 6",
     "output_type": "error",
     "traceback": [
      "\u001b[1;31m---------------------------------------------------------------------------\u001b[0m",
      "\u001b[1;31mIndexError\u001b[0m                                Traceback (most recent call last)",
      "\u001b[1;32m~\\AppData\\Local\\Temp/ipykernel_3872/2922579704.py\u001b[0m in \u001b[0;36m<module>\u001b[1;34m\u001b[0m\n\u001b[0;32m     21\u001b[0m         \u001b[0mmle6\u001b[0m \u001b[1;33m=\u001b[0m \u001b[0mgaussianLikelihood\u001b[0m \u001b[1;33m(\u001b[0m\u001b[0mtesting\u001b[0m\u001b[1;33m,\u001b[0m \u001b[0msixGm\u001b[0m\u001b[1;33m,\u001b[0m \u001b[0msixClusterNum\u001b[0m\u001b[1;33m)\u001b[0m\u001b[1;33m\u001b[0m\u001b[1;33m\u001b[0m\u001b[0m\n\u001b[0;32m     22\u001b[0m         \u001b[0mmle7\u001b[0m \u001b[1;33m=\u001b[0m \u001b[0mgaussianLikelihood\u001b[0m \u001b[1;33m(\u001b[0m\u001b[0mtesting\u001b[0m\u001b[1;33m,\u001b[0m \u001b[0msevenGm\u001b[0m\u001b[1;33m,\u001b[0m \u001b[0msevenClusterNum\u001b[0m\u001b[1;33m)\u001b[0m\u001b[1;33m\u001b[0m\u001b[1;33m\u001b[0m\u001b[0m\n\u001b[1;32m---> 23\u001b[1;33m         \u001b[0mmle8\u001b[0m \u001b[1;33m=\u001b[0m \u001b[0mgaussianLikelihood\u001b[0m \u001b[1;33m(\u001b[0m\u001b[0mtesting\u001b[0m\u001b[1;33m,\u001b[0m \u001b[0meightGm\u001b[0m\u001b[1;33m,\u001b[0m \u001b[0meightClusterNum\u001b[0m\u001b[1;33m)\u001b[0m\u001b[1;33m\u001b[0m\u001b[1;33m\u001b[0m\u001b[0m\n\u001b[0m\u001b[0;32m     24\u001b[0m         \u001b[0mmle9\u001b[0m \u001b[1;33m=\u001b[0m \u001b[0mgaussianLikelihood\u001b[0m \u001b[1;33m(\u001b[0m\u001b[0mtesting\u001b[0m\u001b[1;33m,\u001b[0m \u001b[0mnineGm\u001b[0m\u001b[1;33m,\u001b[0m \u001b[0mnineClusterNum\u001b[0m\u001b[1;33m)\u001b[0m\u001b[1;33m\u001b[0m\u001b[1;33m\u001b[0m\u001b[0m\n\u001b[0;32m     25\u001b[0m         \u001b[0mlikelihoods\u001b[0m \u001b[1;33m=\u001b[0m \u001b[1;33m[\u001b[0m\u001b[0mmle0\u001b[0m\u001b[1;33m,\u001b[0m \u001b[0mmle1\u001b[0m\u001b[1;33m,\u001b[0m \u001b[0mmle2\u001b[0m\u001b[1;33m,\u001b[0m \u001b[0mmle3\u001b[0m\u001b[1;33m,\u001b[0m \u001b[0mmle4\u001b[0m\u001b[1;33m,\u001b[0m \u001b[0mmle5\u001b[0m\u001b[1;33m,\u001b[0m \u001b[0mmle6\u001b[0m\u001b[1;33m,\u001b[0m \u001b[0mmle7\u001b[0m\u001b[1;33m,\u001b[0m \u001b[0mmle8\u001b[0m\u001b[1;33m,\u001b[0m \u001b[0mmle9\u001b[0m\u001b[1;33m]\u001b[0m\u001b[1;33m\u001b[0m\u001b[1;33m\u001b[0m\u001b[0m\n",
      "\u001b[1;32m~\\AppData\\Local\\Temp/ipykernel_3872/949081772.py\u001b[0m in \u001b[0;36mgaussianLikelihood\u001b[1;34m(test, gm, clusterNum)\u001b[0m\n\u001b[0;32m     68\u001b[0m         \u001b[0mmeans5\u001b[0m \u001b[1;33m=\u001b[0m \u001b[0mgm\u001b[0m\u001b[1;33m.\u001b[0m\u001b[0mmeans_\u001b[0m\u001b[1;33m[\u001b[0m\u001b[1;36m5\u001b[0m\u001b[1;33m]\u001b[0m\u001b[1;33m\u001b[0m\u001b[1;33m\u001b[0m\u001b[0m\n\u001b[0;32m     69\u001b[0m     \u001b[1;32mif\u001b[0m \u001b[0mclusterNum\u001b[0m\u001b[1;33m>\u001b[0m\u001b[1;36m6\u001b[0m\u001b[1;33m:\u001b[0m\u001b[1;33m\u001b[0m\u001b[1;33m\u001b[0m\u001b[0m\n\u001b[1;32m---> 70\u001b[1;33m         \u001b[0mcovariance6\u001b[0m \u001b[1;33m=\u001b[0m \u001b[0mcovariance6\u001b[0m\u001b[1;33m*\u001b[0m\u001b[0mgm\u001b[0m\u001b[1;33m.\u001b[0m\u001b[0mcovariances_\u001b[0m\u001b[1;33m[\u001b[0m\u001b[1;36m6\u001b[0m\u001b[1;33m]\u001b[0m\u001b[1;33m\u001b[0m\u001b[1;33m\u001b[0m\u001b[0m\n\u001b[0m\u001b[0;32m     71\u001b[0m         \u001b[0mpi6\u001b[0m \u001b[1;33m=\u001b[0m \u001b[0mgm\u001b[0m\u001b[1;33m.\u001b[0m\u001b[0mweights_\u001b[0m\u001b[1;33m[\u001b[0m\u001b[1;36m6\u001b[0m\u001b[1;33m]\u001b[0m\u001b[1;33m\u001b[0m\u001b[1;33m\u001b[0m\u001b[0m\n\u001b[0;32m     72\u001b[0m         \u001b[0mmeans6\u001b[0m \u001b[1;33m=\u001b[0m \u001b[0mgm\u001b[0m\u001b[1;33m.\u001b[0m\u001b[0mmeans_\u001b[0m\u001b[1;33m[\u001b[0m\u001b[1;36m6\u001b[0m\u001b[1;33m]\u001b[0m\u001b[1;33m\u001b[0m\u001b[1;33m\u001b[0m\u001b[0m\n",
      "\u001b[1;31mIndexError\u001b[0m: index 6 is out of bounds for axis 0 with size 6"
     ]
    }
   ],
   "source": [
    "mles = np.zeros(10)\n",
    "predicted = np.zeros((2200))\n",
    "actual = np.zeros((2200))\n",
    "start = 0\n",
    "counter = 0\n",
    "digitMle = np.shape((10))\n",
    "for i in (range(10)):\n",
    "    for j in tqdm(range(220)):\n",
    "        while not (np.isnan(test_df.iloc[counter][0])):\n",
    "            if i == 9 and j == 219:\n",
    "                counter = test_df.shape[0]\n",
    "                break;\n",
    "            counter=counter+1\n",
    "        testing = test_df.iloc[start:counter].values\n",
    "        mle0 = gaussianLikelihood (testing, zeroGm, zeroClusterNum)\n",
    "        mle1 = gaussianLikelihood (testing, oneGm, oneClusterNum)\n",
    "        mle2 = gaussianLikelihood (testing, twoGm, twoClusterNum)\n",
    "        mle3 = gaussianLikelihood (testing, threeGm, threeClusterNum)\n",
    "        mle4 = gaussianLikelihood (testing, fourGm, fourClusterNum)\n",
    "        mle5 = gaussianLikelihood (testing, fiveGm, fiveClusterNum)\n",
    "        mle6 = gaussianLikelihood (testing, sixGm, sixClusterNum)\n",
    "        mle7 = gaussianLikelihood (testing, sevenGm, sevenClusterNum)\n",
    "        mle8 = gaussianLikelihood (testing, eightGm, eightClusterNum)\n",
    "        mle9 = gaussianLikelihood (testing, nineGm, nineClusterNum)\n",
    "        likelihoods = [mle0, mle1, mle2, mle3, mle4, mle5, mle6, mle7, mle8, mle9]\n",
    "        digit = np.argmax(likelihoods)\n",
    "        actual[i*220+j] = i\n",
    "        predicted[i*220+j] = digit\n",
    "        counter = counter + 1\n",
    "        start = counter"
   ]
  },
  {
   "cell_type": "code",
   "execution_count": 103,
   "id": "cac480c9",
   "metadata": {},
   "outputs": [
    {
     "name": "stdout",
     "output_type": "stream",
     "text": [
      "Predicted  0.0  1.0  2.0  3.0  4.0  5.0  6.0  7.0  8.0  9.0\n",
      "Actual                                                     \n",
      "0.0        135    0    0   22    0   17   11   27    0    8\n",
      "1.0          5  178    7   11    1   10    3    3    2    0\n",
      "2.0          0    0  160   27    2   14   11    1    4    1\n",
      "3.0          7   11   11  166    0   12    0   12    1    0\n",
      "4.0          0    9    0   10  135    9    1   54    0    2\n",
      "5.0          8    1    0   11    5  166    3   10    0   16\n",
      "6.0         37    0    0    3    0    3  169    0    0    8\n",
      "7.0          0    7    0   13   38   13    3  132    0   14\n",
      "8.0          0    0   28    5    1    3    0    0  179    4\n",
      "9.0          0    0    2   20    0   13    9   26    0  150\n"
     ]
    }
   ],
   "source": [
    "data = {'y_Actual':    actual,\n",
    "        'y_Predicted': predicted\n",
    "        }\n",
    "\n",
    "df = pd.DataFrame(data, columns=['y_Actual','y_Predicted'])\n",
    "\n",
    "confusion_matrix = pd.crosstab(df['y_Actual'], df['y_Predicted'], rownames=['Actual'], colnames=['Predicted'])\n",
    "print (confusion_matrix)"
   ]
  },
  {
   "cell_type": "code",
   "execution_count": 101,
   "id": "dc932e93",
   "metadata": {},
   "outputs": [
    {
     "name": "stdout",
     "output_type": "stream",
     "text": [
      "0.7136363636363636\n"
     ]
    }
   ],
   "source": [
    "x = metrics.confusion_matrix(actual, predicted)\n",
    "print(metrics.accuracy_score(actual, predicted))"
   ]
  },
  {
   "cell_type": "code",
   "execution_count": 95,
   "id": "beef3415",
   "metadata": {},
   "outputs": [
    {
     "data": {
      "image/png": "[encoded data removed]",
      "text/plain": [
       "<Figure size 576x396 with 2 Axes>"
      ]
     },
     "metadata": {},
     "output_type": "display_data"
    }
   ],
   "source": [
    "ax = sns.heatmap(x, annot = True, cmap = 'Blues', fmt='g')\n",
    "ax.set_title('Gaussian Mixture Model (Spherical)\\n\\n');\n",
    "ax.set_xlabel('\\nPredicted Values')\n",
    "ax.set_ylabel('Actual Values ');\n",
    "\n",
    "## Ticket labels - List must be in alphabetical order\n",
    "ax.xaxis.set_ticklabels(['0','1', '2', '3', '4', '5', '6', '7', '8', '9'])\n",
    "ax.yaxis.set_ticklabels(['0','1', '2', '3', '4', '5', '6', '7', '8', '9'])\n",
    "\n",
    "## Display the visualization of the Confusion Matrix.\n",
    "plt.show()"
   ]
  },
  {
   "cell_type": "code",
   "execution_count": 102,
   "id": "b65bb5ee",
   "metadata": {},
   "outputs": [
    {
     "name": "stdout",
     "output_type": "stream",
     "text": [
      "0.7136363636363636\n"
     ]
    }
   ],
   "source": [
    "print(metrics.accuracy_score(actual, predicted))"
   ]
  },
  {
   "cell_type": "code",
   "execution_count": 110,
   "id": "fbcf23ab",
   "metadata": {},
   "outputs": [
    {
     "name": "stdout",
     "output_type": "stream",
     "text": [
      "[[2 0 0 0]\n",
      " [0 3 0 0]\n",
      " [0 0 4 0]\n",
      " [0 0 0 5]]\n"
     ]
    }
   ],
   "source": [
    "x = np.diagflat([1,1,1,1])\n",
    "y = [2,3,4,5]\n",
    "z = y*x\n",
    "print(z)"
   ]
  }
 ],
 "metadata": {
  "kernelspec": {
   "display_name": "Python 3 (ipykernel)",
   "language": "python",
   "name": "python3"
  },
  "language_info": {
   "codemirror_mode": {
    "name": "ipython",
    "version": 3
   },
   "file_extension": ".py",
   "mimetype": "text/x-python",
   "name": "python",
   "nbconvert_exporter": "python",
   "pygments_lexer": "ipython3",
   "version": "3.9.1"
  }
 },
 "nbformat": 4,
 "nbformat_minor": 5
}
